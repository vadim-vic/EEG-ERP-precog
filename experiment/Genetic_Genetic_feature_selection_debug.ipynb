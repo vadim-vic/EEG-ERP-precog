{
  "cells": [
    {
      "cell_type": "code",
      "execution_count": null,
      "metadata": {
        "id": "fN-FTcVZTkbM"
      },
      "outputs": [],
      "source": [
        "%matplotlib inline\n",
        "import matplotlib.pyplot as plt\n",
        "import numpy as np\n",
        "from sklearn import datasets\n",
        "from sklearn.linear_model import LogisticRegression\n",
        "from sklearn.inspection import DecisionBoundaryDisplay\n",
        "from sklearn.metrics import RocCurveDisplay # Plot the ROC \n",
        "from sklearn import metrics\n",
        "\n",
        "from sklearn.model_selection import cross_validate\n",
        "from sklearn.metrics import recall_score\n",
        "from sklearn.model_selection import train_test_split\n",
        "\n",
        "import datetime\n",
        "import pandas as pd\n",
        "from google.colab import drive # Mount the Google drive\n",
        "from google.colab import files # Save the experimental results to the Google drive \n",
        "import warnings"
      ]
    },
    {
      "cell_type": "markdown",
      "metadata": {
        "id": "awUGZbLUTkbP"
      },
      "source": []
    },
    {
      "cell_type": "code",
      "execution_count": null,
      "metadata": {
        "colab": {
          "base_uri": "https://localhost:8080/",
          "height": 291
        },
        "id": "VqhbAzkHTkbQ",
        "outputId": "e3c629be-3fa4-48fd-d9cd-6c1c43ed12ce"
      },
      "outputs": [
        {
          "output_type": "display_data",
          "data": {
            "text/plain": [
              "<Figure size 300x300 with 1 Axes>"
            ],
            "image/png": "[encoded data removed]"
          },
          "metadata": {}
        }
      ],
      "source": [
        "digits = datasets.load_digits() \n",
        "plt.figure(1, figsize=(3, 3))\n",
        "plt.imshow(digits.images[-1], cmap=plt.cm.gray_r, interpolation=\"nearest\")\n",
        "plt.show()"
      ]
    },
    {
      "cell_type": "code",
      "source": [
        "nameFeatures = ('FEA 1', 'FEA 2', 'FEA 3', 'FEA 4', 'FEA 5', 'FEA 6', 'FEA 7', 'FEA 8', 'FEA 9', 'FEA 10', 'FEA 11', 'FEA 12', 'FEA 13', 'FEA 14', 'FEA 15', 'FEA 16', 'FEA 17', 'FEA 18', 'FEA 19', 'FEA 20', 'FEA 21', 'FEA 22', 'FEA 23', 'FEA 24', 'FEA 25', 'FEA 26', 'FEA 27', 'FEA 28', 'FEA 29', 'FEA 30', 'FEA 31', 'FEA 32', 'FEA 33', 'FEA 34', 'FEA 35', 'FEA 36', 'FEA 37', 'FEA 38', 'FEA 39', 'FEA 40', 'FEA 41', 'FEA 42', 'FEA 43', 'FEA 44', 'FEA 45', 'FEA 46', 'FEA 47', 'FEA 48', 'FEA 49', 'FEA 50', 'FEA 51', 'FEA 52', 'FEA 53', 'FEA 54', 'FEA 55', 'FEA 56', 'FEA 57', 'FEA 58', 'FEA 59', 'FEA 60', 'FEA 61', 'FEA 62', 'FEA 63', 'FEA 64')\n",
        "# Load dataset\n",
        "X = digits.data\n",
        "Y = digits.target\n",
        "clf = LogisticRegression(C=0.05)\n",
        "# Run one-time classification on the whole dataset\n",
        "one_cls(X, Y, clf)"
      ],
      "metadata": {
        "colab": {
          "base_uri": "https://localhost:8080/"
        },
        "id": "kiAg_0covCN2",
        "outputId": "8a231fdf-885d-4f6f-a7aa-f0669345771c"
      },
      "execution_count": null,
      "outputs": [
        {
          "output_type": "execute_result",
          "data": {
            "text/plain": [
              "0.9638386648122392"
            ]
          },
          "metadata": {},
          "execution_count": 5
        }
      ]
    },
    {
      "cell_type": "code",
      "source": [
        "# Main part of genetic search\n",
        "n_Features = len(nameFeatures)\n",
        "# Genetic algorithm metaparameters\n",
        "K_BEST = 12      # Number of resulting features \n",
        "M_BEST = 3      # Number of rhe best models\n",
        "POP_SIZE = 14   # Number of variuos models min = M_BEST\n",
        "MUT_PROB = 2*1/K_BEST  # Chance of mutation for each feature\n",
        "MAX_ITER = 100   # Times POP_SIZE equals number of fits\n",
        "# ---\n",
        "# Statistics each round for the best one and the population\n",
        "topM_score = np.zeros(M_BEST)\n",
        "topM_feat  = np.zeros([M_BEST,n_Features])\n",
        "# ---\n",
        "# Main loop of the genetic algorithm\n",
        "population, scores  = create_population(n_Features, POP_SIZE, K_BEST)\n",
        "for i in range(MAX_ITER):\n",
        "  offspring           = cross_mutate(population, n_Features, MUT_PROB)\n",
        "  scores_offspring    = offspring_evaluate(X,Y, clf, offspring)\n",
        "  population, scores  = population_sort(population, offspring, scores, scores_offspring)\n",
        "  topM_score, topM_feat = update_score_stat(population, scores, topM_score, topM_feat)\n",
        "  # save_population(population, scores)\n",
        "  print(f'Iteration: {i}, score of best: {topM_score[1]}, features: {topM_feat[1,:]}')\n",
        "  print(f'Scores: {scores}')\n",
        "  # print_statistics(topM_feat[0, :], nameFeatures, K_BEST)\n",
        "# Save and show results\n",
        "save_population(population, scores)\n",
        "print_statistics(topM_score[1,:], nameFeatures)"
      ],
      "metadata": {
        "id": "AlQEIECZv-gs"
      },
      "execution_count": null,
      "outputs": []
    },
    {
      "cell_type": "code",
      "source": [
        "print_statistics(topM_feat[1,:], nameFeatures)"
      ],
      "metadata": {
        "colab": {
          "base_uri": "https://localhost:8080/"
        },
        "id": "mppqDxPf8DR0",
        "outputId": "ebe6d645-a660-4e2e-cf29-041858806fc9"
      },
      "execution_count": null,
      "outputs": [
        {
          "output_type": "stream",
          "name": "stdout",
          "text": [
            "('FEA 34', 77.0)\n",
            "('FEA 30', 69.0)\n",
            "('FEA 27', 67.0)\n",
            "('FEA 6', 63.0)\n",
            "('FEA 22', 60.0)\n",
            "('FEA 44', 56.0)\n",
            "('FEA 19', 52.0)\n",
            "('FEA 45', 46.0)\n",
            "('FEA 36', 46.0)\n",
            "('FEA 28', 40.0)\n",
            "('FEA 62', 38.0)\n",
            "('FEA 54', 36.0)\n",
            "('FEA 10', 36.0)\n",
            "('FEA 46', 35.0)\n",
            "('FEA 20', 35.0)\n",
            "('FEA 58', 33.0)\n",
            "('FEA 39', 29.0)\n",
            "('FEA 43', 28.0)\n",
            "('FEA 3', 27.0)\n",
            "('FEA 4', 25.0)\n",
            "('FEA 63', 22.0)\n",
            "('FEA 56', 22.0)\n",
            "('FEA 51', 22.0)\n",
            "('FEA 31', 20.0)\n",
            "('FEA 21', 20.0)\n",
            "('FEA 14', 19.0)\n",
            "('FEA 11', 15.0)\n",
            "('FEA 1', 15.0)\n",
            "('FEA 59', 14.0)\n",
            "('FEA 15', 13.0)\n",
            "('FEA 37', 12.0)\n",
            "('FEA 47', 10.0)\n",
            "('FEA 8', 8.0)\n",
            "('FEA 32', 8.0)\n",
            "('FEA 49', 7.0)\n",
            "('FEA 61', 6.0)\n",
            "('FEA 55', 6.0)\n",
            "('FEA 53', 5.0)\n",
            "('FEA 18', 5.0)\n",
            "('FEA 7', 4.0)\n",
            "('FEA 35', 4.0)\n",
            "('FEA 60', 3.0)\n",
            "('FEA 5', 3.0)\n",
            "('FEA 48', 3.0)\n",
            "('FEA 33', 3.0)\n",
            "('FEA 24', 3.0)\n",
            "('FEA 2', 3.0)\n",
            "('FEA 9', 2.0)\n",
            "('FEA 57', 2.0)\n",
            "('FEA 41', 2.0)\n",
            "('FEA 40', 2.0)\n",
            "('FEA 12', 2.0)\n",
            "('FEA 38', 1.0)\n",
            "('FEA 26', 1.0)\n",
            "('FEA 25', 1.0)\n",
            "('FEA 23', 1.0)\n",
            "('FEA 13', 1.0)\n",
            "('FEA 64', 0.0)\n",
            "('FEA 52', 0.0)\n",
            "('FEA 50', 0.0)\n",
            "('FEA 42', 0.0)\n",
            "('FEA 29', 0.0)\n",
            "('FEA 17', 0.0)\n",
            "('FEA 16', 0.0)\n"
          ]
        }
      ]
    },
    {
      "cell_type": "code",
      "source": [
        "topM_feat[1,:]"
      ],
      "metadata": {
        "colab": {
          "base_uri": "https://localhost:8080/"
        },
        "id": "xUAGiDeC8ItE",
        "outputId": "6f7a6ab2-f7f3-46f0-a00a-fdc5f57d5ed3"
      },
      "execution_count": null,
      "outputs": [
        {
          "output_type": "execute_result",
          "data": {
            "text/plain": [
              "array([15.,  3., 27., 25.,  3., 63.,  4.,  8.,  2., 36., 15.,  2.,  1.,\n",
              "       19., 13.,  0.,  0.,  5., 52., 35., 20., 60.,  1.,  3.,  1.,  1.,\n",
              "       67., 40.,  0., 69., 20.,  8.,  3., 77.,  4., 46., 12.,  1., 29.,\n",
              "        2.,  2.,  0., 28., 56., 46., 35., 10.,  3.,  7.,  0., 22.,  0.,\n",
              "        5., 36.,  6., 22.,  2., 33., 14.,  3.,  6., 38., 22.,  0.])"
            ]
          },
          "metadata": {},
          "execution_count": 22
        }
      ]
    },
    {
      "cell_type": "code",
      "source": [
        "def one_cls(X, Y, clf):\n",
        "  X_train, X_test, y_train, y_test = train_test_split(X, Y, test_size=0.4, random_state=0)\n",
        "  with warnings.catch_warnings():\n",
        "    warnings.filterwarnings(\"ignore\")\n",
        "    clf.fit(X_train, y_train)\n",
        "  #preds = clf.predict_proba(X)[::,1] # Probabilty for AUC\n",
        "  preds = clf.predict(X_test)  \n",
        "  acc = np.mean(preds == y_test)\n",
        "#  print(f'Accur = {acc}')\n",
        "  return acc"
      ],
      "metadata": {
        "id": "8OTtalpIgMwB"
      },
      "execution_count": null,
      "outputs": []
    },
    {
      "cell_type": "code",
      "source": [
        "def create_population(n_Features, POP_SIZE, K_BEST):\n",
        "  # Create a random population to start with \n",
        "  population = np.empty([POP_SIZE, K_BEST], dtype=int)\n",
        "  for i in range(POP_SIZE):\n",
        "    population[i, :] = np.random.choice(range(n_Features), size=K_BEST, replace=False)\n",
        "  scores =  np.zeros(POP_SIZE) # There is no need to evaluate now (the bigger the better)\n",
        "  return(population, scores)"
      ],
      "metadata": {
        "id": "Nk0stiTf_LCW"
      },
      "execution_count": null,
      "outputs": []
    },
    {
      "cell_type": "code",
      "source": [
        "def cross_mutate(population, n_Features, MUT_PROB):\n",
        "  offspring = np.empty_like(population)\n",
        "  # First genetic step is to crossover all members of the population\n",
        "  for idx, mom  in enumerate(population):           # For each mom\n",
        "    dad = population[np.random.choice(len(population)), :] # Get a random dad\n",
        "    kBest = population.shape[1]\n",
        "    rnd = np.random.choice(kBest)                  # Pick some chromosomes\n",
        "    kid = np.concatenate((mom[:rnd], dad[-(kBest-rnd):])) # Make a kid\n",
        "    offspring[idx, :] = kid                         # Put it to new tribe\n",
        "    #print(idx, rnd, mom, dad, kid)\n",
        "  # Second genetic step is to mutate each member of the new population\n",
        "  for idx, kid  in enumerate(offspring):\n",
        "    mutation = np.random.choice([0, 1], size=kBest, p=[MUT_PROB, 1-MUT_PROB]) # Set random chromosomes\n",
        "    unused = np.setdiff1d(np.arange(n_Features), kid)  # Find the new chromosomes\n",
        "    if len(unused) >= np.sum(mutation):                # is there enough new chromosomes\n",
        "      deviation = np.random.choice(unused, size=np.sum(mutation), replace=False)  # select a few\n",
        "      #oldkid = np.array(kid) # debug\n",
        "      _ = np.where(mutation == 1)[0]\n",
        "      kid[_] = deviation\n",
        "      #print(mutation, oldkid,  kid, deviation) # debug\n",
        "    else:\n",
        "      print('Mutation rate is too high') # Let the kid be same\n",
        "    offspring[idx, :] = kid # Put mutated kid back to tribe\n",
        "  return offspring"
      ],
      "metadata": {
        "id": "D6fJpzkUyjCf"
      },
      "execution_count": null,
      "outputs": []
    },
    {
      "cell_type": "code",
      "source": [
        "def offspring_evaluate(X,Y, clf, offspring):\n",
        "  scores_offspring = np.zeros(len(offspring))\n",
        "  # Third genetic step is to evaluate the quality of each member\n",
        "  for idx, kid in enumerate(offspring):\n",
        "    X_cut = X[:, kid]\n",
        "    acc = one_cls(X_cut, Y, clf)\n",
        "    scores_offspring[idx] = acc # Evaluate each member of the offspring\n",
        "  return scores_offspring"
      ],
      "metadata": {
        "id": "-F_0P81Y9vJC"
      },
      "execution_count": null,
      "outputs": []
    },
    {
      "cell_type": "code",
      "source": [
        "def population_sort(population, offspring, scores, scores_offspring):\n",
        "  # Join the old tribe and the offspring tribe\n",
        "  population = np.concatenate((population, offspring), axis=0)\n",
        "  scores     = np.concatenate((scores, scores_offspring), axis = 0)\n",
        "  idx = np.argsort(-scores)[:len(scores_offspring)] # The bigger score the better\n",
        "  scores     = scores[idx]  # Keep the best scores (cut to offspring size)\n",
        "  population = population[idx,:] # Select the best members \n",
        "  return population, scores"
      ],
      "metadata": {
        "id": "Jq2UrZnJ4Zsz"
      },
      "execution_count": null,
      "outputs": []
    },
    {
      "cell_type": "code",
      "source": [
        "def update_score_stat(population, scores, topM_score, topM_feat):\n",
        "# Statistics each round for the best one and the population\n",
        "  for i, _ in enumerate(topM_score):\n",
        "    topM_score[i] = scores[i] \n",
        "    kid = population[i, :]  # Just copy the first M scores to save\n",
        "    # kid = np.array([3,4,5],  dtype=int) # Just for test\n",
        "    topM_feat[i, kid] += 1  # Increase frequency of each selected feature\n",
        "  return topM_score, topM_feat"
      ],
      "metadata": {
        "id": "zITqWmEdGBCX"
      },
      "execution_count": null,
      "outputs": []
    },
    {
      "cell_type": "code",
      "source": [
        "# Since genetics take long time, it is important to save the intermediate results\n",
        "def save_population(population, scores):\n",
        "  df_population = pd.DataFrame(population)      # Save the population with the features\n",
        "  df_scores     = pd.DataFrame(scores)          # Save the scores to start from\n",
        "  now = datetime.datetime.now()                 # Get today' time to make the filename\n",
        "  date_time_str = now.strftime(\"%Y-%m-%d_%H-%M-%S\") # Format it\n",
        "  # --- \n",
        "  fn_population = f'Population_{date_time_str}.xlsx'\n",
        "  fn_scores     = f'Scores_{date_time_str}.xlsx'\n",
        "  df_population.to_excel(fn_population, index=False) # Save to an Excel file\n",
        "  df_scores.to_excel(fn_scores, index=False)\n",
        "  files.download(fn_population)\n",
        "  files.download(fn_scores)\n",
        "  return"
      ],
      "metadata": {
        "id": "ZMGti-u7IaRc"
      },
      "execution_count": null,
      "outputs": []
    },
    {
      "cell_type": "code",
      "source": [
        "def print_statistics(frequencies, labels): # The last is not used\n",
        "  # Print the names of the most frequest featues and their occurance\n",
        "  # Thanks of ChatGPT\n",
        "  zipped = zip(frequencies, labels) # Each feature has its frequency\n",
        "  sorted_zipped = sorted(zipped, reverse=True) # Sort to show the best\n",
        "  # Unzip the sorted zipped array\n",
        "  sorted_frequencies, sorted_labels = zip(*sorted_zipped)\n",
        "  # Print the sorted frequencies and labels\n",
        "  # print(\"Sorted Frequencies:\", sorted_frequencies)\n",
        "  # print(\"Sorted Labels:\", sorted_labels)\n",
        "  for frequency, label in sorted_zipped:\n",
        "        print((label, frequency))\n",
        "  return"
      ],
      "metadata": {
        "id": "w2Ap0D6INrOe"
      },
      "execution_count": null,
      "outputs": []
    }
  ],
  "metadata": {
    "kernelspec": {
      "display_name": "Python 3",
      "language": "python",
      "name": "python3"
    },
    "language_info": {
      "codemirror_mode": {
        "name": "ipython",
        "version": 3
      },
      "file_extension": ".py",
      "mimetype": "text/x-python",
      "name": "python",
      "nbconvert_exporter": "python",
      "pygments_lexer": "ipython3",
      "version": "3.9.15"
    },
    "colab": {
      "provenance": []
    }
  },
  "nbformat": 4,
  "nbformat_minor": 0
}