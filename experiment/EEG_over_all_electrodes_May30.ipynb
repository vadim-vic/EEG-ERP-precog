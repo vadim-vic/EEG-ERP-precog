{
  "nbformat": 4,
  "nbformat_minor": 0,
  "metadata": {
    "colab": {
      "provenance": []
    },
    "kernelspec": {
      "name": "python3",
      "display_name": "Python 3"
    },
    "language_info": {
      "name": "python"
    }
  },
  "cells": [
    {
      "cell_type": "markdown",
      "source": [
        "Get back to the metric feature generaion over all set of electrodes. Take in account the spatial mature of data in its basic version. First, run the genetic search over all electrides, then average over neighbourhood of selected elctrodes. Then make a convolution over time and space. "
      ],
      "metadata": {
        "id": "U89RirNBevXv"
      }
    },
    {
      "cell_type": "code",
      "execution_count": null,
      "metadata": {
        "id": "nIn5jCQqea5E"
      },
      "outputs": [],
      "source": [
        "%%capture\n",
        "%matplotlib inline\n",
        "!pip3 install pyriemann\n",
        "#!pip3 install mne"
      ]
    },
    {
      "cell_type": "code",
      "source": [
        "# --- basic and system\n",
        "import numpy as np\n",
        "import pandas as pd\n",
        "import scipy.io as sio # Download mat files\n",
        "from google.colab import drive # Mount the Google drive\n",
        "from google.colab import files # Save the experimental results to the Google drive \n",
        "# import sys # To print error messages\n",
        "# --- \n",
        "from sklearn.model_selection import KFold # Select\n",
        "from sklearn.model_selection import train_test_split \n",
        "from sklearn.linear_model import LogisticRegression\n",
        "from sklearn.pipeline import make_pipeline\n",
        "from sklearn.preprocessing import StandardScaler\n",
        "from sklearn.preprocessing import scale\n",
        "# ---\n",
        "from sklearn import linear_model # L1\n",
        "from sklearn.svm import l1_min_c\n",
        "# ---\n",
        "#from pyriemann.estimation import XdawnCovariances \n",
        "#from pyriemann.tangentspace import TangentSpace\n",
        "# ---\n",
        "from sklearn.metrics import RocCurveDisplay # Plot the ROC \n",
        "from sklearn import metrics\n",
        "# ---\n",
        "import matplotlib.pyplot as plt\n",
        "\n",
        "import warnings\n",
        "import datetime"
      ],
      "metadata": {
        "id": "LgD3PKvHf6ZS"
      },
      "execution_count": null,
      "outputs": []
    },
    {
      "cell_type": "markdown",
      "source": [
        "Download the data"
      ],
      "metadata": {
        "id": "pdm9o6kBh4Kt"
      }
    },
    {
      "cell_type": "code",
      "source": [
        "drive.mount('/content/drive')\n",
        "%cd  '/content/drive/MyDrive/EEG/DataMay23'\n",
        "%ls"
      ],
      "metadata": {
        "colab": {
          "base_uri": "https://localhost:8080/"
        },
        "id": "xD3XT1fUh3e5",
        "outputId": "7822995d-e2a8-488e-ab53-881db3d8952d"
      },
      "execution_count": null,
      "outputs": [
        {
          "output_type": "stream",
          "name": "stdout",
          "text": [
            "Mounted at /content/drive\n",
            "/content/drive/MyDrive/EEG/DataMay23\n",
            "EEG_epoch_only3responses_corrupdMay25.mat\n",
            "eeg_May19.mat\n",
            "eeg_May23_unfilt.mat\n",
            "EEG_Recog_elAll_2000ms_Apr28updMay25.mat\n",
            "EEG_Recog_elAll_800ms_Apr28updMay25.mat\n",
            "Population_2023-05-29_02-01-00.xlsx\n",
            "Population_2023-05-30_15-28-07.xlsx\n",
            "Population_2023-05-30_15-28-47.xlsx\n",
            "Population_2023-05-30_15-35-44.xlsx\n",
            "Population_2023-05-30_15-39-55.xlsx\n",
            "Population_2023-05-30_15-46-56.xlsx\n",
            "Population_2023-05-30_15-47-25.xlsx\n",
            "Population_2023-05-30_16-02-40.xlsx\n",
            "Scores_2023-05-29_02-01-00.xlsx\n",
            "Scores_2023-05-30_15-28-07.xlsx\n",
            "Scores_2023-05-30_15-28-47.xlsx\n",
            "Scores_2023-05-30_15-35-44.xlsx\n",
            "Scores_2023-05-30_15-39-55.xlsx\n",
            "Scores_2023-05-30_15-46-56.xlsx\n",
            "Scores_2023-05-30_15-47-25.xlsx\n",
            "Scores_2023-05-30_16-02-40.xlsx\n",
            "UMN_Recog_elAll_1800ms_Apr28updMay25.mat\n",
            "UMN_Recog_elAll_800ms_Apr28updMay25.mat\n"
          ]
        }
      ]
    },
    {
      "cell_type": "code",
      "source": [
        "# S3 dataset, the variables:\n",
        "# 1) dataX, dataY, Users, timeY for each user assigned to each event\n",
        "# 2) timeX, nameElec, posElec   for all users, the experiment setup \n",
        "mat_fnames = (\n",
        "    'EEG_epoch_only3responses_corrupdMay25.mat',\n",
        "    'eeg_May19.mat',\n",
        "    'eeg_May23_unfilt.mat',\n",
        "    'EEG_Recog_elAll_2000ms_Apr28updMay25.mat',\n",
        "    'EEG_Recog_elAll_800ms_Apr28updMay25.mat',\n",
        "    'UMN_Recog_elAll_1800ms_Apr28updMay25.mat',\n",
        "    'UMN_Recog_elAll_800ms_Apr28updMay25.mat',\n",
        "    )\n",
        "mat_fname = mat_fnames[0] #_unfilt.mat'#'eeg_May19.mat'\n",
        "mat_contents = sio.loadmat(mat_fname)\n",
        "dataX = mat_contents['dataX']                   # The design matrix Events x Electrodes x Time\n",
        "dataY = np.squeeze(mat_contents['dataY'])       # A class for each Event\n",
        "dataU = np.squeeze(mat_contents['dataU'])       # A username for each Event\n",
        "# timeY = mat_contents['timeY'] # Not needed here\n",
        "# Predefined indexes of columns in the dataY structure, see the Matlab part \n",
        "# List of all available users in the data\n",
        "users    = np.squeeze(mat_contents['nameUsers'])\n",
        "timeline = np.squeeze(mat_contents['timeX'])\n",
        "# posElec = mat_contents['posElec']   # Not needed here\n",
        "nameElec = mat_contents['nameElec'] # ditto\n",
        "# Claffify each event (trial) as two classes Old word versus New word in the Recognition task\n",
        "# print(timeline)\n",
        "dataX.shape"
      ],
      "metadata": {
        "id": "X71p-cVEiL7f",
        "colab": {
          "base_uri": "https://localhost:8080/"
        },
        "outputId": "45c91078-188c-4426-d560-bdc8f9336c7d"
      },
      "execution_count": null,
      "outputs": [
        {
          "output_type": "execute_result",
          "data": {
            "text/plain": [
              "(907, 128, 410)"
            ]
          },
          "metadata": {},
          "execution_count": 3
        }
      ]
    },
    {
      "cell_type": "code",
      "source": [
        "#print(nameElec)"
      ],
      "metadata": {
        "id": "EsMQQ-uAB7Ub"
      },
      "execution_count": null,
      "outputs": []
    },
    {
      "cell_type": "markdown",
      "source": [
        "Cut the time-segments for each peak P1, P2, P3, LNP as in the SchRes paper,\n",
        "P1 110-160,  P2 200-410, P3 410-650, LNP 400-750. So, we have four chunks of the dataset. "
      ],
      "metadata": {
        "id": "rS2W56OpiiFE"
      }
    },
    {
      "cell_type": "code",
      "source": [
        "peaks = np.array(\n",
        "    [#[60, 999],\n",
        "     [110, 160],\n",
        "     [200, 410],\n",
        "     [410, 650],\n",
        "     [400, 750]]) * 0.001 # time in seconds\n",
        "peakNames = ('P1', 'P2', 'P3', 'LNP') # 'ALL',\n",
        "# Cut the piece of time over the third axis of data \n",
        "def cut_time(X, start, stop, timeline):  \n",
        "  istart = int(np.searchsorted(timeline, start))\n",
        "  istop  = int(np.searchsorted(timeline, stop, side='right')) #- 1\n",
        "  print(f'Time: {start}, {stop}, samples {istart}, {istop}')\n",
        "  segX = X[:, :, istart : istop] # Get a time-segment last\n",
        "  feaX = np.average(segX, axis = 2) # Average over the last index\n",
        "  return segX, feaX"
      ],
      "metadata": {
        "id": "q_nztm7kih1m"
      },
      "execution_count": null,
      "outputs": []
    },
    {
      "cell_type": "markdown",
      "source": [
        "Standardize the time series before the cut"
      ],
      "metadata": {
        "id": "ttc3OsrUfl2A"
      }
    },
    {
      "cell_type": "code",
      "source": [
        "stdX = np.empty_like(dataX)\n",
        "for i, matX in enumerate(dataX):\n",
        "  stdX[i, :, :] = scale(matX, axis=1, with_mean=True, with_std=True)\n",
        "# --- \n",
        "# segX1, fea = cut_time(dataX, peaks[0,0], peaks[0,1], timeline) # test"
      ],
      "metadata": {
        "id": "GUqtmByMfrlx"
      },
      "execution_count": null,
      "outputs": []
    },
    {
      "cell_type": "code",
      "source": [
        "fea4peaksX = np.empty((len(dataX),len(peaks)*dataX.shape[1]))\n",
        "for idx, peak in enumerate(peaks):\n",
        "  _, feaX = cut_time(stdX, peak[0], peak[1], timeline)\n",
        "  fea4peaksX = np.concatenate((fea4peaksX, feaX), axis=1)\n",
        "fea4peaksX.shape"
      ],
      "metadata": {
        "colab": {
          "base_uri": "https://localhost:8080/"
        },
        "id": "7J7PKgdkoDSL",
        "outputId": "8da15e3b-da87-417b-a97f-541c66d1045c"
      },
      "execution_count": null,
      "outputs": [
        {
          "output_type": "stream",
          "name": "stdout",
          "text": [
            "Time: 0.11, 0.16, samples 29, 41\n",
            "Time: 0.2, 0.41000000000000003, samples 52, 105\n",
            "Time: 0.41000000000000003, 0.65, samples 105, 166\n",
            "Time: 0.4, 0.75, samples 103, 192\n"
          ]
        },
        {
          "output_type": "execute_result",
          "data": {
            "text/plain": [
              "(907, 1024)"
            ]
          },
          "metadata": {},
          "execution_count": 6
        }
      ]
    },
    {
      "cell_type": "code",
      "source": [
        "print(feaX.shape, fea4peaksX.shape)\n",
        "dataX = fea4peaksX"
      ],
      "metadata": {
        "colab": {
          "base_uri": "https://localhost:8080/"
        },
        "id": "wS2NlOyLIYLx",
        "outputId": "f3152ddb-e45d-45b6-ec93-1e888c1cddba"
      },
      "execution_count": null,
      "outputs": [
        {
          "output_type": "stream",
          "name": "stdout",
          "text": [
            "(907, 128) (907, 1024)\n"
          ]
        }
      ]
    },
    {
      "cell_type": "code",
      "source": [],
      "metadata": {
        "colab": {
          "base_uri": "https://localhost:8080/"
        },
        "id": "hvv_DDw6KgXh",
        "outputId": "6e9ec712-e402-4332-a85a-557ee90ec47c"
      },
      "execution_count": null,
      "outputs": [
        {
          "output_type": "execute_result",
          "data": {
            "text/plain": [
              "4"
            ]
          },
          "metadata": {},
          "execution_count": 39
        }
      ]
    },
    {
      "cell_type": "code",
      "source": [
        "plt.plot(np.average(matX[:,:], axis = 1))"
      ],
      "metadata": {
        "colab": {
          "base_uri": "https://localhost:8080/",
          "height": 447
        },
        "id": "dAHDXz3Sjsxn",
        "outputId": "28384827-3ad7-4f7e-def8-459a642ea002"
      },
      "execution_count": null,
      "outputs": [
        {
          "output_type": "execute_result",
          "data": {
            "text/plain": [
              "[<matplotlib.lines.Line2D at 0x7f49bc4ffa00>]"
            ]
          },
          "metadata": {},
          "execution_count": 9
        },
        {
          "output_type": "display_data",
          "data": {
            "text/plain": [
              "<Figure size 640x480 with 1 Axes>"
            ],
            "image/png": "[encoded data removed]"
          },
          "metadata": {}
        }
      ]
    },
    {
      "cell_type": "code",
      "source": [],
      "metadata": {
        "id": "9Na2SbidfEnC"
      },
      "execution_count": null,
      "outputs": []
    },
    {
      "cell_type": "markdown",
      "source": [
        "Prepare the design matrix and target vector \n",
        "Four cases: \n",
        "- Correct events, All events\n",
        "- Selected users, All users\n",
        "\n",
        "Four classes map into two classes Old and New, with or without incorrect\n",
        "0. Old correct\n",
        "1. Old incorrect\n",
        "2. New correct \n",
        "3. New incorrect\n"
      ],
      "metadata": {
        "id": "ewqIU0zQqJiF"
      }
    },
    {
      "cell_type": "code",
      "source": [
        "users_all = np.array([1037, 1363, 2038, 7977, 1045, 1368, 6639, 7980, 1034, 1327, 1385, 7974])\n",
        "users_six = np.array([1158,1045,7980,1037,6639,1363]) # Six users with higher accuracy\n",
        "print(f'Selected: {np.isin(users_six, users_all)}')\n",
        "\n",
        "class_all = np.array([0, 1, 2, 3])   # All four include incorrect responses\n",
        "class_two = np.array([0, 2])         # Only correct responses\n",
        "# --- Run the schedule \n",
        "users_list = (users_all, users_all, users_six, users_six)\n",
        "class_list = (class_all, class_two, class_all, class_two)\n",
        "\n",
        "# Make dataset\n",
        "#idx = (np.isin(dataU, users_six)) & (np.isin(dataY, class_two))\n",
        "idx = (np.isin(dataU, users_six)) & (np.isin(dataY, class_two))\n",
        "Y = np.array([0 if _ <  2 else 1 for _ in dataY[idx]]) # Two classes in selected data\n",
        "#X = segX1[idx]\n",
        "X = dataX[idx]\n",
        "#for userselect, classelect in zip (users_list, class_list):\n",
        "#  # Select users and classes\n",
        "#  idx = (np.isin(dataU, userselect)) & (np.isin(dataY, classelect))\n",
        "#  # Make dataset\n",
        "#  Y = np.array([0 if _ <  2 else 1 for _ in dataY[idx]]) # Two classes in selected data\n",
        "#  X = fX[idx]\n",
        "#  print(f'Users: {userselect} --- Sample size: {len(Y)} --- Class balance: {sum(Y==0)} vs {sum(Y==1)}') # --- Events: {set(Y)} \n",
        "#  select_features(X,Y)\n",
        "#  classify(X, Y, names, classifiers)"
      ],
      "metadata": {
        "colab": {
          "base_uri": "https://localhost:8080/"
        },
        "id": "0g_ZiHuQpQjO",
        "outputId": "9fd9205f-9922-405c-a1f2-d042d2dc8de7"
      },
      "execution_count": null,
      "outputs": [
        {
          "output_type": "stream",
          "name": "stdout",
          "text": [
            "Selected: [False  True  True  True  True  True]\n"
          ]
        }
      ]
    },
    {
      "cell_type": "code",
      "source": [],
      "metadata": {
        "id": "1TZAehs4u0E6"
      },
      "execution_count": null,
      "outputs": []
    },
    {
      "cell_type": "code",
      "source": [],
      "metadata": {
        "id": "HShxA7fDv5BW"
      },
      "execution_count": null,
      "outputs": []
    },
    {
      "cell_type": "code",
      "source": [
        "name = 'Logistic regression'\n",
        "cv = KFold(n_splits=10, shuffle=True, random_state=43)\n",
        "n_components=5\n",
        "clf = make_pipeline(\n",
        "    XdawnCovariances(n_components),\n",
        "    TangentSpace(metric=\"riemann\"),   \n",
        "    LogisticRegression(),\n",
        "    )\n",
        "preds = np.zeros(len(Y))\n",
        "for train_idx, test_idx in cv.split(X):\n",
        "  y_train, y_test = Y[train_idx], Y[test_idx]\n",
        "  clf.fit(X[train_idx], y_train)\n",
        "  # preds[test_idx] = clf.predict(X[test_idx])  \n",
        "  preds[test_idx] = clf.predict_proba(X[test_idx])[::,1] # Probabilty for AUC\n",
        "  fpr, tpr, _ = metrics.roc_curve(Y[test_idx], preds[test_idx])\n",
        "  auc = round(metrics.roc_auc_score(Y[test_idx], preds[test_idx]), 4)\n",
        "  plt.plot(fpr,tpr,label=name+\", AUC=\"+str(auc))\n",
        "plt.rcParams['font.family'] = 'DejaVu Serif'\n",
        "plt.rcParams['lines.linewidth'] = 2\n",
        "#plt.rcParams['lines.markersize'] = 12\n",
        "plt.rcParams['xtick.labelsize'] = 12#24\n",
        "plt.rcParams['ytick.labelsize'] = 12#24\n",
        "plt.rcParams['legend.fontsize'] = 8#24\n",
        "#plt.rcParams['axes.titlesize'] = 36. \n",
        "plt.rcParams['axes.labelsize'] = 12#24\n",
        "plt.gca().set_aspect('equal')\n",
        "plt.xlabel('False Positive Rate')\n",
        "plt.ylabel('True Positive Rate')\n",
        "plt.legend()\n",
        "plt.show()"
      ],
      "metadata": {
        "colab": {
          "base_uri": "https://localhost:8080/",
          "height": 455
        },
        "id": "ReMDpelerwfh",
        "outputId": "00c7137b-fa28-4598-aa46-cb00a2adca72"
      },
      "execution_count": null,
      "outputs": [
        {
          "output_type": "display_data",
          "data": {
            "text/plain": [
              "<Figure size 640x480 with 1 Axes>"
            ],
            "image/png": "[encoded data removed]"
          },
          "metadata": {}
        }
      ]
    },
    {
      "cell_type": "code",
      "source": [
        "def one_cls(X, Y, clf):\n",
        "  X_train, X_test, y_train, y_test = train_test_split(X, Y, test_size=0.4, random_state=0)\n",
        "  with warnings.catch_warnings():\n",
        "    warnings.filterwarnings(\"ignore\")\n",
        "    clf.fit(X_train, y_train)\n",
        "  #preds = clf.predict_proba(X)[::,1] # Probabilty for AUC\n",
        "  preds = clf.predict(X_test)  \n",
        "  acc = np.mean(preds == y_test)\n",
        "#  print(f'Accur = {acc}')\n",
        "  return acc\n",
        "#  ----------------------------- ---------------------------------\n",
        "def create_population(n_Features, POP_SIZE, K_BEST):\n",
        "  # Create a random population to start with \n",
        "  population = np.empty([POP_SIZE, K_BEST], dtype=int)\n",
        "  for i in range(POP_SIZE):\n",
        "    population[i, :] = np.random.choice(range(n_Features), size=K_BEST, replace=False)\n",
        "  scores =  np.zeros(POP_SIZE) # There is no need to evaluate now (the bigger the better)\n",
        "  return(population, scores)\n",
        "#  ----------------------------- ---------------------------------\n",
        "def cross_mutate(population, n_Features, MUT_PROB):\n",
        "  offspring = np.empty_like(population)\n",
        "  # First genetic step is to crossover all members of the population\n",
        "  for idx, mom  in enumerate(population):           # For each mom\n",
        "    dad = population[np.random.choice(len(population)), :] # Get a random dad\n",
        "    kBest = population.shape[1]\n",
        "    rnd = np.random.choice(kBest)                  # Pick some chromosomes\n",
        "    kid = np.concatenate((mom[:rnd], dad[-(kBest-rnd):])) # Make a kid\n",
        "    offspring[idx, :] = kid                         # Put it to new tribe\n",
        "    #print(idx, rnd, mom, dad, kid)\n",
        "  # Second genetic step is to mutate each member of the new population\n",
        "  for idx, kid  in enumerate(offspring):\n",
        "    mutation = np.random.choice([0, 1], size=kBest, p=[MUT_PROB, 1-MUT_PROB]) # Set random chromosomes\n",
        "    unused = np.setdiff1d(np.arange(n_Features), kid)  # Find the new chromosomes\n",
        "    if len(unused) >= np.sum(mutation):                # is there enough new chromosomes\n",
        "      deviation = np.random.choice(unused, size=np.sum(mutation), replace=False)  # select a few\n",
        "      #oldkid = np.array(kid) # debug\n",
        "      _ = np.where(mutation == 1)[0]\n",
        "      kid[_] = deviation\n",
        "      #print(mutation, oldkid,  kid, deviation) # debug\n",
        "    else:\n",
        "      print('Mutation rate is too high') # Let the kid be same\n",
        "    offspring[idx, :] = kid # Put mutated kid back to tribe\n",
        "  return offspring\n",
        "#  ----------------------------- ---------------------------------\n",
        "def offspring_evaluate(X,Y, clf, offspring):\n",
        "  scores_offspring = np.zeros(len(offspring))\n",
        "  # Third genetic step is to evaluate the quality of each member\n",
        "  for idx, kid in enumerate(offspring):\n",
        "    X_cut = X[:, kid]\n",
        "    acc = one_cls(X_cut, Y, clf)\n",
        "    scores_offspring[idx] = acc # Evaluate each member of the offspring\n",
        "  return scores_offspring\n",
        "#  ----------------------------- ---------------------------------\n",
        "def population_sort(population, offspring, scores, scores_offspring):\n",
        "  # Join the old tribe and the offspring tribe\n",
        "  population = np.concatenate((population, offspring), axis=0)\n",
        "  scores     = np.concatenate((scores, scores_offspring), axis = 0)\n",
        "  idx = np.argsort(-scores)[:len(scores_offspring)] # The bigger score the better\n",
        "  scores     = scores[idx]  # Keep the best scores (cut to offspring size)\n",
        "  population = population[idx,:] # Select the best members \n",
        "  return population, scores\n",
        "#  ----------------------------- ---------------------------------\n",
        "def update_score_stat(population, scores, topM_score, topM_feat):\n",
        "  # Statistics each round for the best one and the population\n",
        "  for i, _ in enumerate(topM_score):\n",
        "    topM_score[i] = scores[i] \n",
        "    kid = population[i, :]  # Just copy the first M scores to save\n",
        "    # kid = np.array([3,4,5],  dtype=int) # Just for test\n",
        "    topM_feat[i, kid] += 1  # Increase frequency of each selected feature\n",
        "  return topM_score, topM_feat\n",
        "#  ----------------------------- ---------------------------------\n",
        "def save_population(population, scores):\n",
        "  # Since genetics take long time, it is important to save the intermediate results\n",
        "  df_population = pd.DataFrame(population)      # Save the population with the features\n",
        "  df_scores     = pd.DataFrame(scores)          # Save the scores to start from\n",
        "  now = datetime.datetime.now()                 # Get today' time to make the filename\n",
        "  date_time_str = now.strftime(\"%Y-%m-%d_%H-%M-%S\") # Format it\n",
        "\n",
        "  fn_population = f'Population_{date_time_str}.xlsx'\n",
        "  fn_scores     = f'Scores_{date_time_str}.xlsx'\n",
        "  df_population.to_excel(fn_population, index=False) # Save to an Excel file\n",
        "  df_scores.to_excel(fn_scores, index=False)\n",
        "  files.download(fn_population)\n",
        "  files.download(fn_scores)\n",
        "  return\n",
        "#  ----------------------------- ---------------------------------\n",
        "def print_statistics(frequencies, labels): # The last is not used\n",
        "  # Print the names of the most frequest featues and their occurance\n",
        "  # Thanks of ChatGPT\n",
        "  zipped = zip(frequencies, labels) # Each feature has its frequency\n",
        "  sorted_zipped = sorted(zipped, reverse=True) # Sort to show the best\n",
        "  # Unzip the sorted zipped array\n",
        "  sorted_frequencies, sorted_labels = zip(*sorted_zipped)\n",
        "  # Print the sorted frequencies and labels\n",
        "  # print(\"Sorted Frequencies:\", sorted_frequencies)\n",
        "  # print(\"Sorted Labels:\", sorted_labels)\n",
        "  for frequency, label in sorted_zipped:\n",
        "        print((label, frequency))\n",
        "  return\n",
        "#  ----------------------------- ---------------------------------\n",
        "#  ----------------------------- ---------------------------------\n",
        "#  ----------------------------- ---------------------------------  "
      ],
      "metadata": {
        "id": "pPBO4RNB_aU5"
      },
      "execution_count": null,
      "outputs": []
    },
    {
      "cell_type": "code",
      "source": [
        "X = fea4peaksX[idx]\n",
        "Y = dataY[idx]"
      ],
      "metadata": {
        "id": "3_VpEmnhO_qj"
      },
      "execution_count": null,
      "outputs": []
    },
    {
      "cell_type": "code",
      "source": [
        "Y.shape"
      ],
      "metadata": {
        "colab": {
          "base_uri": "https://localhost:8080/"
        },
        "id": "dIxO3VGNRY23",
        "outputId": "402414c5-9771-45a2-fc1c-c9bef634350a"
      },
      "execution_count": null,
      "outputs": [
        {
          "output_type": "execute_result",
          "data": {
            "text/plain": [
              "(444,)"
            ]
          },
          "metadata": {},
          "execution_count": 55
        }
      ]
    },
    {
      "cell_type": "code",
      "source": [
        "# Data loading \n",
        "nameFeatures = ('A1', 'A2', 'A3', 'A4', 'A5', 'A6', 'A7', 'A8', 'A9', 'A10', 'A11', 'A12', 'A13', 'A14', 'A15', 'A16', 'A17', 'A18', 'A19', 'A20', 'A21', 'A22', 'A23', 'A24', 'A25', 'A26', 'A27', 'A28', 'A29', 'A30', 'A31', 'A32', 'B1', 'B2', 'B3', 'B4', 'B5', 'B6', 'B7', 'B8', 'B9', 'B10', 'B11', 'B12', 'B13', 'B14', 'B15', 'B16', 'B17', 'B18', 'B19', 'B20', 'B21', 'B22', 'B23', 'B24', 'B25', 'B26', 'B27', 'B28', 'B29', 'B30', 'B31', 'B32', 'C1', 'C2', 'C3', 'C4', 'C5', 'C6', 'C7', 'C8', 'C9', 'C10', 'C11', 'C12', 'C13', 'C14', 'C15', 'C16', 'C17', 'C18', 'C19', 'C20', 'C21', 'C22', 'C23', 'C24', 'C25', 'C26', 'C27', 'C28', 'C29', 'C30', 'C31', 'C32', 'D1', 'D2', 'D3', 'D4', 'D5', 'D6', 'D7', 'D8', 'D9', 'D10', 'D11', 'D12', 'D13', 'D14', 'D15', 'D16', 'D17', 'D18', 'D19', 'D20', 'D21', 'D22', 'D23', 'D24', 'D25', 'D26', 'D27', 'D28', 'D29', 'D30', 'D31', 'D32')\n",
        "# Block of the plain logistic regresson\n",
        "#-----------------------------------\n",
        "# nameFeatures = ['F' + str(i) for i in range(len(nameFeatures))] # Replace the original names\n",
        "namePeaks = ('P1', 'P2', 'P3', 'LNP') \n",
        "grid1, grid2 = np.meshgrid(nameFeatures, namePeaks) # Create meshgrid\n",
        "nameFeatures = np.reshape(np.stack((grid1, grid2), axis=-1), (-1, 2)) # Flatten the grids into one axis\n",
        "nameFeatures = [' '.join((nameFeatures[i,0], nameFeatures[i,1])) for i in range(len(nameFeatures))]\n",
        "X = fea4peaksX[idx]\n",
        "Y = dataY[idx]\n",
        "clf = LogisticRegression()\n",
        "#-----------------------------------\n",
        "#X = dataX[idx]\n",
        "#Y = dataY[idx]\n",
        "#n_components=5\n",
        "#clf = make_pipeline(\n",
        "#    XdawnCovariances(n_components),\n",
        "#    TangentSpace(metric=\"riemann\"),   \n",
        "#    LogisticRegression(),\n",
        "#    )\n",
        "#-----------------------------------\n",
        "# Main part of genetic search\n",
        "n_Features = len(nameFeatures)\n",
        "# Genetic algorithm metaparameters\n",
        "K_BEST =  16     # Number of resulting features \n",
        "M_BEST = 3      # Number of rhe best models\n",
        "POP_SIZE = 14   # Number of variuos models min = M_BEST\n",
        "MUT_PROB = 2*1/K_BEST  # Chance of mutation for each feature\n",
        "MAX_ITER = 10000   # Times POP_SIZE equals number of fits\n",
        "# ---\n",
        "# Statistics each round for the best one and the population\n",
        "topM_score = np.zeros(M_BEST)\n",
        "topM_feat  = np.zeros([M_BEST,n_Features])\n",
        "# ---\n",
        "# Main loop of the genetic algorithm\n",
        "population, scores  = create_population(n_Features, POP_SIZE, K_BEST)\n",
        "for i in range(MAX_ITER):\n",
        "  offspring           = cross_mutate(population, n_Features, MUT_PROB)\n",
        "  scores_offspring    = offspring_evaluate(X,Y, clf, offspring)\n",
        "  population, scores  = population_sort(population, offspring, scores, scores_offspring)\n",
        "  topM_score, topM_feat = update_score_stat(population, scores, topM_score, topM_feat)\n",
        "  # save_population(population, scores)\n",
        "  print(f'Iteration: {i}, score of best: {topM_score[1]}, features: {topM_feat[1,:]}')\n",
        "  print(f'Scores: {scores}')\n",
        "  # print_statistics(topM_feat[0, :], nameFeatures, K_BEST)\n",
        "# Save and show results\n",
        "save_population(population, scores)\n",
        "print_statistics(topM_feat[1], nameFeatures)"
      ],
      "metadata": {
        "id": "QS5D0BLt_5QF"
      },
      "execution_count": null,
      "outputs": []
    },
    {
      "cell_type": "code",
      "source": [
        "nameFeatures = ('A1', 'A2', 'A3', 'A4', 'A5', 'A6', 'A7', 'A8', 'A9', 'A10', 'A11', 'A12', 'A13', 'A14', 'A15', 'A16', 'A17', 'A18', 'A19', 'A20', 'A21', 'A22', 'A23', 'A24', 'A25', 'A26', 'A27', 'A28', 'A29', 'A30', 'A31', 'A32', 'B1', 'B2', 'B3', 'B4', 'B5', 'B6', 'B7', 'B8', 'B9', 'B10', 'B11', 'B12', 'B13', 'B14', 'B15', 'B16', 'B17', 'B18', 'B19', 'B20', 'B21', 'B22', 'B23', 'B24', 'B25', 'B26', 'B27', 'B28', 'B29', 'B30', 'B31', 'B32', 'C1', 'C2', 'C3', 'C4', 'C5', 'C6', 'C7', 'C8', 'C9', 'C10', 'C11', 'C12', 'C13', 'C14', 'C15', 'C16', 'C17', 'C18', 'C19', 'C20', 'C21', 'C22', 'C23', 'C24', 'C25', 'C26', 'C27', 'C28', 'C29', 'C30', 'C31', 'C32', 'D1', 'D2', 'D3', 'D4', 'D5', 'D6', 'D7', 'D8', 'D9', 'D10', 'D11', 'D12', 'D13', 'D14', 'D15', 'D16', 'D17', 'D18', 'D19', 'D20', 'D21', 'D22', 'D23', 'D24', 'D25', 'D26', 'D27', 'D28', 'D29', 'D30', 'D31', 'D32')\n",
        "namePeaks = ('P1', 'P2', 'P3', 'LNP')\n",
        "# Create meshgrid\n",
        "grid1, grid2 = np.meshgrid(nameFeatures, namePeaks)\n",
        "# Flatten the grids into one axis\n",
        "nameGrid = np.reshape(np.stack((grid1, grid2), axis=-1), (-1, 2))\n",
        "print(nameGrid)"
      ],
      "metadata": {
        "id": "oaxIA5A_RzNF"
      },
      "execution_count": null,
      "outputs": []
    },
    {
      "cell_type": "markdown",
      "source": [],
      "metadata": {
        "id": "_do97vzuc2Sl"
      }
    },
    {
      "cell_type": "code",
      "source": [
        "# Data preparation---\n",
        "# WARNING! This does not work in one run.\n",
        "tempX = X #dataX[idx,:]\n",
        "tempY = Y #dataY[idx]\n",
        "# Prepocessing gould make NaN values\n",
        "nan_mask = np.isnan(tempX).any(axis=1)\n",
        "tempX = tempX[~nan_mask,:]\n",
        "tempY = tempY[~nan_mask]\n",
        "# Subset 1\n",
        "X1 = tempX[0:300, :]\n",
        "Y1 = tempY[0:300]\n",
        "# Subset 2\n",
        "X2 = tempX[200:443, :]\n",
        "Y2 = tempY[200:443]\n",
        "\n",
        "# --- Classification with L1 regularization\n",
        "cs = l1_min_c(X, Y, loss=\"log\") * np.logspace(0, 7, 16)\n",
        "\n",
        "clf = linear_model.LogisticRegression(\n",
        "    penalty=\"l1\",\n",
        "    solver=\"liblinear\",\n",
        "    tol=1e-6,\n",
        "    max_iter=int(1e6),\n",
        "    warm_start=True,\n",
        "    intercept_scaling=10000.0,\n",
        ")\n",
        "coefs_ = []\n",
        "# np.set_printoptions(threshold=np.inf)\n",
        "for c in cs:\n",
        "    clf.set_params(C=c)\n",
        "    clf.fit(X, Y)\n",
        "    coefs_.append(clf.coef_.ravel().copy())\n",
        "    #c_to_print = (clf.coef_.ravel().copy())\n",
        "    #print(f'{c_to_print}')\n",
        "\n",
        "#--- Plot the regularization path\n",
        "coefs_ = np.array(coefs_)\n",
        "plt.plot(np.log10(cs), coefs_, marker=\"o\")\n",
        "ymin, ymax = plt.ylim()\n",
        "plt.xlabel(\"log(C)\")\n",
        "plt.ylabel(\"Coefficients\")\n",
        "plt.title(\"Logistic Regression Path\")\n",
        "plt.axis(\"tight\")\n",
        "plt.show()\n",
        "\n",
        "\n",
        "#--- Correlation between elements of the regularization paths\n",
        "coefs1 = coefs_ \n",
        "coefs2 = coefs_ \n",
        "\n",
        "for c1, c2 in zip(coefs1, coefs2):\n",
        "  correlation = np.corrcoef(c2, c1)[0, 1]\n",
        "  print(f'{np.round(correlation,2)}') \n"
      ],
      "metadata": {
        "colab": {
          "base_uri": "https://localhost:8080/"
        },
        "id": "uYq71qcaU4f2",
        "outputId": "b65439da-16d1-495d-f287-9f82d29ea867"
      },
      "execution_count": null,
      "outputs": [
        {
          "output_type": "execute_result",
          "data": {
            "text/plain": [
              "(512, 2)"
            ]
          },
          "metadata": {},
          "execution_count": 69
        }
      ]
    }
  ]
}