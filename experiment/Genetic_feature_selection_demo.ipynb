{
  "nbformat": 4,
  "nbformat_minor": 0,
  "metadata": {
    "colab": {
      "provenance": []
    },
    "kernelspec": {
      "name": "python3",
      "display_name": "Python 3"
    },
    "language_info": {
      "name": "python"
    }
  },
  "cells": [
    {
      "cell_type": "code",
      "execution_count": null,
      "metadata": {
        "id": "5YsdwHMJucp6"
      },
      "outputs": [],
      "source": [
        "%matplotlib inline\n",
        "import matplotlib.pyplot as plt\n",
        "import numpy as np\n",
        "# Dataets and models\n",
        "from sklearn import datasets\n",
        "from sklearn.linear_model import LogisticRegression\n",
        "from sklearn import metrics\n",
        "#from sklearn.model_selection import cross_validate\n",
        "#from sklearn.metrics import recall_score\n",
        "from sklearn.model_selection import train_test_split\n",
        "# Supress classification warnings to show genetic statistics\n",
        "import warnings\n",
        "# Save and load files\n",
        "import datetime\n",
        "import pandas as pd\n",
        "from google.colab import drive # Mount the Google drive\n",
        "from google.colab import files # Save the experimental results to the Google drive \n",
        "import sys"
      ]
    },
    {
      "cell_type": "code",
      "source": [
        "drive.mount('/content/drive')\n",
        "#%cd '/content/drive/MyDrive/EEG/'\n",
        "sys.path.append('/content/drive/MyDrive/EEG')\n",
        "# import genetic_binary_kBest \n",
        "from genetic_binary_kBest import one_cls, create_population, cross_mutate, offspring_evaluate, population_sort, update_score_stat, save_population, print_statistics"
      ],
      "metadata": {
        "colab": {
          "base_uri": "https://localhost:8080/"
        },
        "id": "ZoIw5N4LvlRB",
        "outputId": "d58034f3-0ada-47df-d469-2685b07b4001"
      },
      "execution_count": null,
      "outputs": [
        {
          "output_type": "stream",
          "name": "stdout",
          "text": [
            "Drive already mounted at /content/drive; to attempt to forcibly remount, call drive.mount(\"/content/drive\", force_remount=True).\n"
          ]
        }
      ]
    },
    {
      "cell_type": "code",
      "source": [
        "# The Digit Dataset 1797 8x8 images \n",
        "digits = datasets.load_digits()\n",
        "plt.figure(1, figsize=(3, 3))\n",
        "plt.imshow(digits.images[-1], cmap=plt.cm.gray_r, interpolation=\"nearest\")\n",
        "plt.show()"
      ],
      "metadata": {
        "colab": {
          "base_uri": "https://localhost:8080/",
          "height": 291
        },
        "id": "qqMxeZI2vBe1",
        "outputId": "e9cb1ff2-4a4f-45c4-c5fc-419d049e0bba"
      },
      "execution_count": null,
      "outputs": [
        {
          "output_type": "display_data",
          "data": {
            "text/plain": [
              "<Figure size 300x300 with 1 Axes>"
            ],
            "image/png": "[encoded data removed]"
          },
          "metadata": {}
        }
      ]
    },
    {
      "cell_type": "code",
      "source": [
        "nameFeatures = ('FEA 1', 'FEA 2', 'FEA 3', 'FEA 4', 'FEA 5', 'FEA 6', 'FEA 7', 'FEA 8', 'FEA 9', 'FEA 10', 'FEA 11', 'FEA 12', 'FEA 13', 'FEA 14', 'FEA 15', 'FEA 16', 'FEA 17', 'FEA 18', 'FEA 19', 'FEA 20', 'FEA 21', 'FEA 22', 'FEA 23', 'FEA 24', 'FEA 25', 'FEA 26', 'FEA 27', 'FEA 28', 'FEA 29', 'FEA 30', 'FEA 31', 'FEA 32', 'FEA 33', 'FEA 34', 'FEA 35', 'FEA 36', 'FEA 37', 'FEA 38', 'FEA 39', 'FEA 40', 'FEA 41', 'FEA 42', 'FEA 43', 'FEA 44', 'FEA 45', 'FEA 46', 'FEA 47', 'FEA 48', 'FEA 49', 'FEA 50', 'FEA 51', 'FEA 52', 'FEA 53', 'FEA 54', 'FEA 55', 'FEA 56', 'FEA 57', 'FEA 58', 'FEA 59', 'FEA 60', 'FEA 61', 'FEA 62', 'FEA 63', 'FEA 64')\n",
        "# Load dataset\n",
        "X = digits.data\n",
        "Y = digits.target\n",
        "clf = LogisticRegression(C=0.05)\n",
        "# Run one-time classification on the whole dataset\n",
        "#one_cls(X, Y, clf)"
      ],
      "metadata": {
        "id": "hCbF2xQXvf6Q"
      },
      "execution_count": null,
      "outputs": []
    },
    {
      "cell_type": "code",
      "source": [
        "# Main part of genetic search\n",
        "n_Features = len(nameFeatures)\n",
        "# Genetic algorithm metaparameters\n",
        "K_BEST = 12      # Number of resulting features \n",
        "M_BEST = 3      # Number of rhe best models\n",
        "POP_SIZE = 14   # Number of variuos models min = M_BEST\n",
        "MUT_PROB = 2*1/K_BEST  # Chance of mutation for each feature\n",
        "MAX_ITER = 100   # Times POP_SIZE equals number of fits\n",
        "# ---\n",
        "# Statistics each round for the best one and the population\n",
        "topM_score = np.zeros(M_BEST)\n",
        "topM_feat  = np.zeros([M_BEST,n_Features])\n",
        "# ---\n",
        "# Main loop of the genetic algorithm\n",
        "population, scores  = create_population(n_Features, POP_SIZE, K_BEST)\n"
      ],
      "metadata": {
        "id": "oPwuu3Ux4gWd"
      },
      "execution_count": null,
      "outputs": []
    },
    {
      "cell_type": "code",
      "source": [
        "for i in range(MAX_ITER):\n",
        "  offspring           = cross_mutate(population, n_Features, MUT_PROB)\n",
        "  scores_offspring    = offspring_evaluate(X,Y, clf, offspring)\n",
        "  population, scores  = population_sort(population, offspring, scores, scores_offspring)\n",
        "  topM_score, topM_feat = update_score_stat(population, scores, topM_score, topM_feat)\n",
        "  # save_population(population, scores)\n",
        "  print(f'Iteration: {i}, score of best: {topM_score[1]}, features: {topM_feat[1,:]}')\n",
        "  print(f'Scores: {scores}')\n",
        "  # print_statistics(topM_feat[0, :], nameFeatures, K_BEST)\n",
        "# Save and show results\n",
        "save_population(population, scores)\n",
        "print_statistics(topM_score[1,:], nameFeatures)"
      ],
      "metadata": {
        "id": "b2S8LziC4w7M"
      },
      "execution_count": null,
      "outputs": []
    }
  ]
}